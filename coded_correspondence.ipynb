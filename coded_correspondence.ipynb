{
  "cells": [
    {
      "cell_type": "markdown",
      "metadata": {
        "id": "ovdqaXtS0LFR"
      },
      "source": [
        "# Casual Coded Correspondence: My first unguided project on Python\n",
        "\n",
        "In this project, I was dealing with messages from my imaginary cryptography enthusiast pen pal Vishal.  Here is his most recent letter:\n",
        "\n",
        "     Hey there! How have you been? I've been great! I just learned about this really cool type of cipher called a  Caesar Cipher. Here's how it works: You take your message, something like \"hello\" and then you shift all of the letters by a certain offset. For example, if I chose an offset of 3 and a message of \"hello\", I would code my message by shifting each letter 3 places to the left (with respect to the alphabet). So \"h\" becomes \"e\", \"e\" becomes, \"b\", \"l\" becomes \"i\", and \"o\" becomes \"l\". Then I have my coded message,\"ebiil\"! Now I can send you my message and the offset and you can decode it. The best thing is that Julius Caesar himself used this cipher, that's why it's called the Caesar Cipher! Isn't that so cool! Okay, now I'm going to send you a longer coded message that you have to decode yourself!\n",
        "    \n",
        "        xuo jxuhu! jxyi yi qd unqcfbu ev q squiqh syfxuh. muhu oek qrbu je tusetu yj? y xefu ie! iudt cu q cuiiqwu rqsa myjx jxu iqcu evviuj!\n",
        "    \n",
        "    This message has an offset of 10. Can you decode it?\n",
        "    \n",
        "\n",
        "#### Step 1: Decode Vishal's Message\n"
      ]
    },
    {
      "cell_type": "code",
      "execution_count": null,
      "metadata": {
        "colab": {
          "base_uri": "https://localhost:8080/"
        },
        "id": "RgalNVLw0LFU",
        "outputId": "35beaaf4-e69f-4a7b-907a-41167b4ed52f"
      },
      "outputs": [
        {
          "output_type": "stream",
          "name": "stdout",
          "text": [
            "hello my fiend! proud to decipher your message with my first self-written python program\n"
          ]
        }
      ],
      "source": [
        "# I was sure that there was a way to call alphabet as a list in Python, so I googled and was right\n",
        "import string\n",
        "alphabet = list(string.ascii_lowercase)\n",
        "encoded_message = \"xubbe co vyudt! fhekt je tusyfxuh oekh cuiiqwu myjx co vyhij iubv-mhyjjud fojxed fhewhqc\"\n",
        "decoded_message = []\n",
        "\n",
        "# I was provided with a solution, but I swear I looked inside only after I got all my code to work properly :)\n",
        "\n",
        "# for symbol in encoded_message:\n",
        "#   if symbol in alphabet:\n",
        "#     if alphabet.index(symbol) <= 15:\n",
        "#       decoded_message.append(alphabet[alphabet.index(symbol)+10])\n",
        "#     else:\n",
        "#       decoded_message.append(alphabet[alphabet.index(symbol)%16])\n",
        "    \n",
        "#   else:\n",
        "#     decoded_message.append(symbol)\n",
        "\n",
        "# *** My way was much sloppier than the one from the solution, I completely forgot how to use modulus properly, so I commented it out :) ***\n",
        "\n",
        "for symbol in encoded_message:\n",
        "    if symbol in alphabet:\n",
        "        decoded_message.append(alphabet[(alphabet.index(symbol)+10) % len(alphabet)])\n",
        "        \n",
        "    else:\n",
        "      decoded_message.append(symbol)\n",
        "\n",
        "print(\"\".join(decoded_message))"
      ]
    },
    {
      "cell_type": "markdown",
      "metadata": {
        "id": "GLYEiwCC0LFV"
      },
      "source": [
        "#### Step 2: Send Vishal a Coded Message\n"
      ]
    },
    {
      "cell_type": "code",
      "execution_count": null,
      "metadata": {
        "colab": {
          "base_uri": "https://localhost:8080/"
        },
        "id": "NQt3K7IF0LFV",
        "outputId": "73c8b118-17dd-4dd9-e5b1-4faf5465db52"
      },
      "outputs": [
        {
          "output_type": "stream",
          "name": "stdout",
          "text": [
            "xubbe co vyudt! fhekt je tusyfxuh oekh cuiiqwu myjx co vyhij iubv-mhyjjud fojxed fhewhqc\n"
          ]
        }
      ],
      "source": [
        "source_message = \"hello my fiend! proud to decipher your message with my first self-written python program\"\n",
        "encrypted_message = []\n",
        "\n",
        "for symbol in source_message:\n",
        "  if symbol in alphabet:\n",
        "    \n",
        "    # if alphabet.index(symbol) >= 10:\n",
        "    #   encrypted_message.append(alphabet[alphabet.index(symbol)-10])\n",
        "    # elif alphabet.index(symbol) == 0:\n",
        "    #   encrypted_message.append(alphabet[-10])\n",
        "    # else:\n",
        "    #   encrypted_message.append(alphabet[-10 % alphabet.index(symbol)])\n",
        "    \n",
        "    # *** The same is with this one ^^ ***\n",
        "\n",
        "      encrypted_message.append(alphabet[(alphabet.index(symbol)-10) % len(alphabet)])\n",
        "\n",
        "  else:\n",
        "    encrypted_message.append(symbol)\n",
        "print(\"\".join(encrypted_message))\n"
      ]
    },
    {
      "cell_type": "markdown",
      "metadata": {
        "id": "AwWUWg-J0LFW"
      },
      "source": [
        "#### Step 3: Make functions for decoding and coding \n",
        "\n",
        "Vishal sent over another reply, this time with two coded messages!\n",
        "    \n",
        "    You're getting the hang of this! Okay here are two more messages, the first one is coded just like before with  an offset of ten, and it contains the hint for decoding the second message!\n",
        "    \n",
        "    First message:\n",
        "    \n",
        "        jxu evviuj veh jxu iusedt cuiiqwu yi vekhjuud.\n",
        "        \n",
        "    Second message:\n",
        "    \n",
        "        bqdradyuzs ygxfubxq omqemd oubtqde fa oapq kagd yqeemsqe ue qhqz yadq eqogdq!\n",
        "    \n",
        "That's where I was instructed to make a function of it."
      ]
    },
    {
      "cell_type": "code",
      "execution_count": null,
      "metadata": {
        "colab": {
          "base_uri": "https://localhost:8080/"
        },
        "id": "_8R8ev8q0LFW",
        "outputId": "20a134dc-4389-4d7b-b580-d2b72310329b"
      },
      "outputs": [
        {
          "output_type": "stream",
          "name": "stdout",
          "text": [
            "the offset for the second message is fourteen.\n",
            "performing multiple caesar ciphers to code your messages is even more secure!\n"
          ]
        }
      ],
      "source": [
        "def decoder(message, offset):\n",
        "  decrypted_message = []\n",
        "  for symbol in message:\n",
        "    if symbol in alphabet:\n",
        "        decrypted_message.append(alphabet[(alphabet.index(symbol) + offset) % len(alphabet)])\n",
        "  # Same with modulus here \n",
        "    else:\n",
        "      decrypted_message.append(symbol)\n",
        "  return \"\".join(decrypted_message)\n",
        "\n",
        "\n",
        "input1 = \"jxu evviuj veh jxu iusedt cuiiqwu yi vekhjuud.\"\n",
        "print(decoder(input1, 10))\n",
        "\n",
        "input2 = \"bqdradyuzs ygxfubxq omqemd oubtqde fa oapq kagd yqeemsqe ue qhqz yadq eqogdq!\"\n",
        "print(decoder(input2, 14))\n"
      ]
    },
    {
      "cell_type": "code",
      "execution_count": null,
      "metadata": {
        "colab": {
          "base_uri": "https://localhost:8080/"
        },
        "id": "vHolvCjg0LFX",
        "outputId": "2b2e4f48-763e-410d-95e2-c44a918652de"
      },
      "outputs": [
        {
          "output_type": "stream",
          "name": "stdout",
          "text": [
            "bqdradyuzs ygxfubxq omqemd oubtqde fa oapq kagd yqeemsqe ue qhqz yadq eqogdq!\n"
          ]
        }
      ],
      "source": [
        "def coder(message, offset):\n",
        "  encrypted_message = []\n",
        "  for symbol in message:\n",
        "    if symbol in alphabet:\n",
        "        encrypted_message.append(alphabet[(alphabet.index(symbol) - offset) % len(alphabet)])\n",
        "# ... and here \n",
        "    else: \n",
        "      encrypted_message.append(symbol)\n",
        "  return \"\".join(encrypted_message)\n",
        "\n",
        "input = \"performing multiple caesar ciphers to code your messages is even more secure!\"\n",
        "print(coder(input, 14))"
      ]
    },
    {
      "cell_type": "markdown",
      "metadata": {
        "id": "YH2RAt2i0LFX"
      },
      "source": [
        "#### Step 4: Solving a Caesar Cipher without knowing the shift value\n",
        "\n",
        "\n",
        "\n",
        "            Hello again friend! I knew you would love the Caesar Cipher, it's a cool simple way to encrypt messages. Did you know that back in Caesar's time, it was considered a very secure way of communication and it took a lot of effort to crack if you were unaware of the value of the shift? That's all changed with computers! Now we can brute force these kinds of ciphers very quickly, as I'm sure you can imagine.\n",
        "            \n",
        "            To test your cryptography skills, this next coded message is going to be harder than the last couple to crack. It's still going to be coded with a Caesar Cipher but this time I'm not going to tell you the value of   the shift. You'll have to brute force it yourself.\n",
        "            \n",
        "            Here's the coded message:\n",
        "            \n",
        "            vhfinmxkl atox kxgwxkxw tee hy maxlx hew vbiaxkl tl hulhexmx. px'ee atox mh kxteer lmxi ni hnk ztfx by px ptgm mh dxxi hnk fxlltzxl ltyx.\n",
        "            \n",
        "            Good luck!\n",
        "            \n"
      ]
    },
    {
      "cell_type": "code",
      "execution_count": null,
      "metadata": {
        "colab": {
          "base_uri": "https://localhost:8080/"
        },
        "id": "--b0OI9N0LFY",
        "outputId": "aac4de46-daf6-4d37-dd44-66b08ec1441b"
      },
      "outputs": [
        {
          "output_type": "stream",
          "name": "stdout",
          "text": [
            "vhfinmxkl atox kxgwxkxw tee hy maxlx hew vbiaxkl tl hulhexmx. px'ee atox mh kxteer lmxi ni hnk ztfx by px ptgm mh dxxi hnk fxlltzxl ltyx.\n",
            "wigjonylm bupy lyhxylyx uff iz nbymy ifx wcjbylm um ivmifyny. qy'ff bupy ni lyuffs mnyj oj iol augy cz qy quhn ni eyyj iol gymmuaym muzy.\n",
            "xjhkpozmn cvqz mziyzmzy vgg ja ocznz jgy xdkczmn vn jwnjgzoz. rz'gg cvqz oj mzvggt nozk pk jpm bvhz da rz rvio oj fzzk jpm hznnvbzn nvaz.\n",
            "ykilqpano dwra najzanaz whh kb pdaoa khz yeldano wo kxokhapa. sa'hh dwra pk nawhhu opal ql kqn cwia eb sa swjp pk gaal kqn iaoowcao owba.\n",
            "zljmrqbop exsb obkaboba xii lc qebpb lia zfmebop xp lyplibqb. tb'ii exsb ql obxiiv pqbm rm lro dxjb fc tb txkq ql hbbm lro jbppxdbp pxcb.\n",
            "amknsrcpq fytc pclbcpcb yjj md rfcqc mjb agnfcpq yq mzqmjcrc. uc'jj fytc rm pcyjjw qrcn sn msp eykc gd uc uylr rm iccn msp kcqqyecq qydc.\n",
            "bnlotsdqr gzud qdmcdqdc zkk ne sgdrd nkc bhogdqr zr narnkdsd. vd'kk gzud sn qdzkkx rsdo to ntq fzld he vd vzms sn jddo ntq ldrrzfdr rzed.\n",
            "computers have rendered all of these old ciphers as obsolete. we'll have to really step up our game if we want to keep our messages safe.\n",
            "dpnqvufst ibwf sfoefsfe bmm pg uiftf pme djqifst bt pctpmfuf. xf'mm ibwf up sfbmmz tufq vq pvs hbnf jg xf xbou up lffq pvs nfttbhft tbgf.\n",
            "eqorwvgtu jcxg tgpfgtgf cnn qh vjgug qnf ekrjgtu cu qduqngvg. yg'nn jcxg vq tgcnna uvgr wr qwt icog kh yg ycpv vq mggr qwt oguucigu uchg.\n",
            "frpsxwhuv kdyh uhqghuhg doo ri wkhvh rog flskhuv dv revrohwh. zh'oo kdyh wr uhdoob vwhs xs rxu jdph li zh zdqw wr nhhs rxu phvvdjhv vdih.\n",
            "gsqtyxivw lezi virhivih epp sj xliwi sph gmtlivw ew sfwspixi. ai'pp lezi xs vieppc wxit yt syv keqi mj ai aerx xs oiit syv qiwwekiw weji.\n",
            "htruzyjwx mfaj wjsijwji fqq tk ymjxj tqi hnumjwx fx tgxtqjyj. bj'qq mfaj yt wjfqqd xyju zu tzw lfrj nk bj bfsy yt pjju tzw rjxxfljx xfkj.\n",
            "iusvazkxy ngbk xktjkxkj grr ul znkyk urj iovnkxy gy uhyurkzk. ck'rr ngbk zu xkgrre yzkv av uax mgsk ol ck cgtz zu qkkv uax skyygmky yglk.\n",
            "jvtwbalyz ohcl yluklylk hss vm aolzl vsk jpwolyz hz vizvslal. dl'ss ohcl av ylhssf zalw bw vby nhtl pm dl dhua av rllw vby tlzzhnlz zhml.\n",
            "kwuxcbmza pidm zmvlmzml itt wn bpmam wtl kqxpmza ia wjawtmbm. em'tt pidm bw zmittg abmx cx wcz oium qn em eivb bw smmx wcz umaaioma ainm.\n",
            "lxvydcnab qjen anwmnanm juu xo cqnbn xum lryqnab jb xkbxuncn. fn'uu qjen cx anjuuh bcny dy xda pjvn ro fn fjwc cx tnny xda vnbbjpnb bjon.\n",
            "mywzedobc rkfo boxnobon kvv yp droco yvn mszrobc kc ylcyvodo. go'vv rkfo dy bokvvi cdoz ez yeb qkwo sp go gkxd dy uooz yeb wocckqoc ckpo.\n",
            "nzxafepcd slgp cpyopcpo lww zq espdp zwo ntaspcd ld zmdzwpep. hp'ww slgp ez cplwwj depa fa zfc rlxp tq hp hlye ez vppa zfc xpddlrpd dlqp.\n",
            "oaybgfqde tmhq dqzpqdqp mxx ar ftqeq axp oubtqde me aneaxqfq. iq'xx tmhq fa dqmxxk efqb gb agd smyq ur iq imzf fa wqqb agd yqeemsqe emrq.\n",
            "pbzchgref unir eraqrerq nyy bs gurfr byq pvcuref nf bofbyrgr. jr'yy unir gb ernyyl fgrc hc bhe tnzr vs jr jnag gb xrrc bhe zrffntrf fnsr.\n",
            "qcadihsfg vojs fsbrsfsr ozz ct hvsgs czr qwdvsfg og cpgczshs. ks'zz vojs hc fsozzm ghsd id cif uoas wt ks kobh hc yssd cif asggousg gots.\n",
            "rdbejitgh wpkt gtcstgts paa du iwtht das rxewtgh ph dqhdatit. lt'aa wpkt id gtpaan hite je djg vpbt xu lt lpci id ztte djg bthhpvth hput.\n",
            "secfkjuhi xqlu hudtuhut qbb ev jxuiu ebt syfxuhi qi eriebuju. mu'bb xqlu je huqbbo ijuf kf ekh wqcu yv mu mqdj je auuf ekh cuiiqwui iqvu.\n",
            "tfdglkvij yrmv iveuvivu rcc fw kyvjv fcu tzgyvij rj fsjfcvkv. nv'cc yrmv kf ivrccp jkvg lg fli xrdv zw nv nrek kf bvvg fli dvjjrxvj jrwv.\n",
            "ugehmlwjk zsnw jwfvwjwv sdd gx lzwkw gdv uahzwjk sk gtkgdwlw. ow'dd zsnw lg jwsddq klwh mh gmj ysew ax ow osfl lg cwwh gmj ewkksywk ksxw.\n"
          ]
        }
      ],
      "source": [
        "# Brute force as it is \n",
        "key = list(range(26))\n",
        "for offset in key:\n",
        "  print(decoder(\"vhfinmxkl atox kxgwxkxw tee hy maxlx hew vbiaxkl tl hulhexmx. px'ee atox mh kxteer lmxi ni hnk ztfx by px ptgm mh dxxi hnk fxlltzxl ltyx.\", offset))"
      ]
    },
    {
      "cell_type": "markdown",
      "metadata": {
        "id": "da4XoIHD0LFY"
      },
      "source": [
        "#### Step 5: The Vigenère Cipher\n",
        "\n",
        "Here came a *really* tough one.\n",
        "\n",
        "            Salutations! As you can see, technology has made brute forcing simple ciphers like the Caesar Cipher extremely easy, and us crypto-enthusiasts have had to get more creative and use more complicated ciphers. This next cipher I'm going to teach you is the Vigenère Cipher, invented by an Italian cryptologist named Giovan Battista Bellaso (cool name eh?) in the 16th century, but named after another cryptologist from the 16th century, Blaise de Vigenère.\n",
        "            \n",
        "           The Vigenère Cipher is a polyalphabetic substitution cipher, as opposed to the Caesar Cipher which was a monoalphabetic substitution cipher. What this means is that opposed to having a single shift that is applied to every letter, the Vigenère Cipher has a different shift for each individual letter. The value of the shift for each letter is determined by a given keyword.\n",
        "           \n",
        "           Consider the message\n",
        "           \n",
        "               barry is the spy\n",
        "\n",
        "           If we want to code this message, first we choose a keyword. For this example, we'll use the keyword\n",
        "           \n",
        "               dog\n",
        "               \n",
        "           Now we use the repeat the keyword over and over to generate a _keyword phrase_ that is the same length as the message we want to code. So if we want to code the message \"barry is the spy\" our _keyword phrase_ is \"dogdo gd ogd ogd\". Now we are ready to start coding our message. We shift the each letter of our message by the place value of the corresponding letter in the keyword phrase, assuming that \"a\" has a place value of 0, \"b\" has a place value of 1, and so forth. Remember, we zero-index because this is Python we're talking about!\n",
        "\n",
        "                        message:       b  a  r  r  y    i  s   t  h  e   s  p  y\n",
        "                \n",
        "                 keyword phrase:       d  o  g  d  o    g  d   o  g  d   o  g  d\n",
        "                 \n",
        "          resulting place value:       4  14 15 12 16   24 11  21 25 22  22 17 5\n",
        "      \n",
        "            So we shift \"b\", which has an index of 1, by the index of \"d\", which is 3. This gives us an place value of 4, which is \"e\". Then continue the trend: we shift \"a\" by the place value of \"o\", 14, and get \"o\" again, we shift \"r\" by the place value of \"g\", 15, and get \"x\", shift the next \"r\" by 12 places and \"u\", and so forth. Once we complete all the shifts we end up with our coded message:\n",
        "            \n",
        "                eoxum ov hnh gvb\n",
        "                \n",
        "            As you can imagine, this is a lot harder to crack without knowing the keyword! So now comes the hard part. I'll give you a message and the keyword, and you'll see if you can figure out how to crack it! Ready? Okay here's my message:\n",
        "            \n",
        "                dfc aruw fsti gr vjtwhr wznj? vmph otis! cbx swv jipreneo uhllj kpi rahjib eg fjdkwkedhmp!\n",
        "                \n",
        "            and the keyword to decode my message is \n",
        "            \n",
        "                friends\n",
        "                \n",
        "            Because that's what we are! Good luck friend!\n",
        "           \n",
        "That's where I understood that programming is 80% thinking and planning and about 20% writing code. \n"
      ]
    },
    {
      "cell_type": "code",
      "execution_count": null,
      "metadata": {
        "colab": {
          "base_uri": "https://localhost:8080/"
        },
        "id": "sJqydhn_0LFZ",
        "outputId": "6881ff4a-26ac-46f1-fa44-33484b73a987"
      },
      "outputs": [
        {
          "output_type": "stream",
          "name": "stdout",
          "text": [
            "barry is the spy\n",
            "The quick brown fox jumps over the lazy dog!\n"
          ]
        }
      ],
      "source": [
        "def vigenere_decode(message, key):\n",
        "  decrypted_message = []\n",
        "  # I tried many different approaches including calling a list(range()) of numbers and pairing them with letters but got stuck anyway\n",
        "  # Then I realized: MAKE A COUNTER!  \n",
        "  counter = 0\n",
        "  for symbol in message:\n",
        "    if symbol in alphabet:\n",
        "    \n",
        "      x = alphabet.index(key[(counter+len(key))%len(key)])\n",
        "      y = alphabet.index(symbol) - x\n",
        "      decrypted_message.append(alphabet[y % len(alphabet)])\n",
        "      \n",
        "      counter += 1\n",
        "  \n",
        "    else: \n",
        "      decrypted_message.append(symbol)\n",
        "     \n",
        "  return \"\".join(decrypted_message)\n",
        "  \n",
        "# def vigenere_coder(message, keyword):\n",
        "#     letter_pointer = 0\n",
        "#     keyword_final = ''\n",
        "#     for i in range(0,len(message)):\n",
        "#         if message[i] in punctuation:\n",
        "#             keyword_final += message[i]\n",
        "#         else:\n",
        "#             keyword_final += keyword[letter_pointer]\n",
        "#             letter_pointer = (letter_pointer+1)%len(keyword)\n",
        "#     translated_message = ''\n",
        "#     for i in range(0,len(message)):\n",
        "#         if message[i] not in punctuation:\n",
        "#             ln = alphabet.find(message[i]) + alphabet.find(keyword_final[i])\n",
        "#             translated_message += alphabet[ln % 26]\n",
        "#         else:\n",
        "#             translated_message += message[i]\n",
        "#     return translated_message\n",
        "# \n",
        "# When I opened a solution in the end, I was stunned that my way was more elegant (at least I think so)\n",
        "\n",
        "print(vigenere_decode(\"eoxum ov hnh gvb\", \"dog\"))\n",
        "\n",
        "print(vigenere_decode(\"Twp qwmjy musnc qoz nbaav smtc tji sokb hfv!\", \"placeholder\")) \n",
        "# The quick brown fox helped me ensure all the letters are coded properly"
      ]
    },
    {
      "cell_type": "markdown",
      "metadata": {
        "collapsed": true,
        "id": "VMFPdthZ0LFZ"
      },
      "source": [
        "#### Step 6: Send a message with the  Vigenère Cipher\n"
      ]
    },
    {
      "cell_type": "code",
      "execution_count": null,
      "metadata": {
        "id": "LATmTRWX0LFa",
        "colab": {
          "base_uri": "https://localhost:8080/"
        },
        "outputId": "43d526f8-7db4-46cf-acc2-4772425d8fcf"
      },
      "outputs": [
        {
          "output_type": "stream",
          "name": "stdout",
          "text": [
            "eoxum ov hnh gvb\n",
            "Twp qwmjy musnc qoz nbaav smtc tji sokb hfv!\n"
          ]
        }
      ],
      "source": [
        "\n",
        "def vigenere_encode(message, key):\n",
        "  encrypted_message = []\n",
        "  counter = 0\n",
        "  for symbol in message:\n",
        "    if symbol in alphabet:\n",
        "    \n",
        "      x = alphabet.index(key[(counter+len(key))%len(key)])\n",
        "      y = alphabet.index(symbol) + x\n",
        "      encrypted_message.append(alphabet[y % len(alphabet)])\n",
        "      counter += 1\n",
        "  \n",
        "    else: \n",
        "      encrypted_message.append(symbol)\n",
        "     \n",
        "  return \"\".join(encrypted_message)\n",
        "  \n",
        "print(vigenere_encode(\"barry is the spy\", \"dog\"))\n",
        "\n",
        "print(vigenere_encode(\"The quick brown fox jumps over the lazy dog!\", \"placeholder\"))\n",
        "# with the help of a quick brown fox and a long key, I made sure that the encryptor and decryptor work correctly in both directions."
      ]
    },
    {
      "cell_type": "markdown",
      "metadata": {
        "id": "qMPLiXHP0LFa"
      },
      "source": [
        "#### Conclusion\n",
        "Although I understand that this is basic Python 101, I'm really excited to present my very first independent program! \n",
        "Here I learned that programming is more about thinking of a solution than just writing code, and got a chance to feel that amazing feeling of seeing your code work after hours of trying!"
      ]
    }
  ],
  "metadata": {
    "kernelspec": {
      "display_name": "Python 3",
      "language": "python",
      "name": "python3"
    },
    "language_info": {
      "codemirror_mode": {
        "name": "ipython",
        "version": 3
      },
      "file_extension": ".py",
      "mimetype": "text/x-python",
      "name": "python",
      "nbconvert_exporter": "python",
      "pygments_lexer": "ipython3",
      "version": "3.7.4"
    },
    "colab": {
      "provenance": []
    }
  },
  "nbformat": 4,
  "nbformat_minor": 0
}