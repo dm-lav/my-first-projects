{
 "cells": [
  {
   "cell_type": "markdown",
   "metadata": {},
   "source": [
    "# U.S. Medical Insurance Costs\n",
    "\n",
    "To make the work more interesting, let's add a story to this project. \n",
    "Imagine that a small space insurance company, SpaceINS, has insured a crew of settlers on a lunar agricultural base and needs help evaluating the contract. The base is under the jurisdiction of the United States, so health insurance is carried out according to the same procedures as in the USA on Earth.\n",
    "In this project, a **CSV** file with medical insurance costs will be investigated using Python fundamentals. The goal with this project will be to analyze various attributes within **insurance.csv** to learn more about the patient information in the file and gain insight into potential use cases for the dataset."
   ]
  },
  {
   "cell_type": "markdown",
   "metadata": {},
   "source": [
    "First, import all the libraries needed for the project. Here it looks like we will only need the **csv** library.\n",
    "\n"
   ]
  },
  {
   "cell_type": "code",
   "execution_count": 97,
   "metadata": {},
   "outputs": [],
   "source": [
    "#import csv\n",
    "import csv"
   ]
  },
  {
   "cell_type": "markdown",
   "metadata": {},
   "source": [
    "Second, let's take a look on the **insurance.csv** and plan out how to import the data into a Python file:\n",
    "* The names of columns and rows: age,sex,bmi,children,smoker,region,charges\n",
    "* Any noticeable missing data: no missing data\n",
    "* Types of values: some of the data is numerical (age, bmi, children, charges) and some is categorical (sex, smoker, region)\n",
    "\n"
   ]
  },
  {
   "cell_type": "markdown",
   "metadata": {},
   "source": [
    "## Scope of the project\n",
    "\n",
    "* Check the sample for balance through categories (e.g. we may find that this dataset is mainly composed of individuals who have children or that it is imbalanced in terms of representation of males vs. females.)\n",
    "* Review geopraphy of clients' origin\n",
    "* Analyze costs and work out recommendations on how to lower insurance costs for clients:\n",
    "    * Determine the dependence of the cost of insurance on the status of a smoker \n",
    "    * Determine the dependence of the cost of insurance on BMI\n",
    "    * Identify recommendations for optimizing health insurance costs  "
   ]
  },
  {
   "cell_type": "markdown",
   "metadata": {},
   "source": [
    "Next, let's prepare a skeleton for our project:"
   ]
  },
  {
   "cell_type": "code",
   "execution_count": 149,
   "metadata": {},
   "outputs": [],
   "source": [
    "# add empty lists for the various columns in insurance.csv\n",
    "ages = []\n",
    "sexes = []\n",
    "bmis = []\n",
    "num_children = []\n",
    "smoker_statuses = []\n",
    "regions = []\n",
    "insurance_charges = []"
   ]
  },
  {
   "cell_type": "code",
   "execution_count": 150,
   "metadata": {},
   "outputs": [],
   "source": [
    "# helper function to load csv data\n",
    "def load_list_data(lst, csv_file, column_name):\n",
    "    with open(csv_file) as csv_info:\n",
    "        csv_dict = csv.DictReader(csv_info)\n",
    "        for row in csv_dict:\n",
    "            lst.append(row[column_name])\n",
    "        return lst"
   ]
  },
  {
   "cell_type": "raw",
   "metadata": {},
   "source": []
  },
  {
   "cell_type": "code",
   "execution_count": 151,
   "metadata": {},
   "outputs": [],
   "source": [
    "# Populate the created columns with data \n",
    "load_list_data(ages, 'insurance.csv', \"age\")\n",
    "load_list_data(sexes, 'insurance.csv', \"sex\")\n",
    "load_list_data(bmis, 'insurance.csv', \"bmi\")\n",
    "load_list_data(num_children, 'insurance.csv', \"children\")\n",
    "load_list_data(smoker_statuses, 'insurance.csv', \"smoker\")\n",
    "load_list_data(regions, 'insurance.csv', \"region\")\n",
    "load_list_data(insurance_charges, 'insurance.csv', \"charges\");"
   ]
  },
  {
   "cell_type": "code",
   "execution_count": 152,
   "metadata": {},
   "outputs": [],
   "source": [
    "# Convert numerical values from str to int/flow\n",
    "\n",
    "ages = [int(ages[i]) for i in range(len(ages))]\n",
    "bmis = [float(bmis[i]) for i in range(len(bmis))]\n",
    "insurance_charges = [float(insurance_charges[i]) for i in range(len(insurance_charges))]"
   ]
  },
  {
   "cell_type": "code",
   "execution_count": 153,
   "metadata": {},
   "outputs": [
    {
     "name": "stdout",
     "output_type": "stream",
     "text": [
      "13270.42\n"
     ]
    }
   ],
   "source": [
    "avg_charges = round(sum(insurance_charges) / len(insurance_charges), 2)\n",
    "print(avg_charges)"
   ]
  },
  {
   "cell_type": "code",
   "execution_count": 154,
   "metadata": {},
   "outputs": [
    {
     "name": "stdout",
     "output_type": "stream",
     "text": [
      "Average age of a client in this contract is 39.21 years.\n",
      "Under 30: 417\n",
      "30 to 45: 392\n",
      "45 to 60: 415\n",
      "Over 60: 114\n"
     ]
    }
   ],
   "source": [
    "# Check average age\n",
    "avg_age = sum(ages) / len(ages)\n",
    "print(\"Average age of a client in this contract is \" + str(round(avg_age, 2)) + \" years.\")\n",
    "\n",
    "# Group clients by age and review age balance\n",
    "age_under_30 = []\n",
    "age_30_to_45 = []\n",
    "age_45_to_60 = []\n",
    "age_over_60 = []\n",
    "\n",
    "for age in ages:\n",
    "    if age < 30:\n",
    "        age_under_30.append(age)\n",
    "    elif age < 45:\n",
    "        age_30_to_45.append(age)\n",
    "    elif age <60:\n",
    "        age_45_to_60.append(age)\n",
    "    else:\n",
    "        age_over_60.append(age)\n",
    "print(\"Under 30: \" + str(len(age_under_30)) + \n",
    "      \"\\n30 to 45: \" + str(len(age_30_to_45)) +\n",
    "      \"\\n45 to 60: \" + str(len(age_45_to_60)) +\n",
    "      \"\\nOver 60: \" + str(len(age_over_60)))"
   ]
  },
  {
   "cell_type": "markdown",
   "metadata": {},
   "source": [
    "The age structure of the sample corresponds to the structure of the population in this lunar county, so it does not raise any concerns.\n",
    "\n",
    "Next, analyze gender structure."
   ]
  },
  {
   "cell_type": "code",
   "execution_count": 155,
   "metadata": {},
   "outputs": [
    {
     "name": "stdout",
     "output_type": "stream",
     "text": [
      "Gender ratio of the insured settlement is 1.02 with 50.52% of male and 49.48% of female population\n"
     ]
    }
   ],
   "source": [
    "m = sexes.count(\"male\")\n",
    "f = sexes.count(\"female\")\n",
    "gender_ratio = round(m / f, 2)\n",
    "male_percent = round((m / len(sexes)) * 100, 2)\n",
    "female_percent = round((f / len(sexes)) * 100, 2)\n",
    "print(\"Gender ratio of the insured settlement is \" + str(gender_ratio) + \" with \" + str(male_percent) + \"% of male and \" + str(female_percent) + \"% of female population\")"
   ]
  },
  {
   "cell_type": "markdown",
   "metadata": {},
   "source": [
    "Seems that the organizers of the settlement have coped well with the challenges of gender equality!\n",
    "However the settlement's authorities use old software that does not include non-binary persons. Time to update!  "
   ]
  },
  {
   "cell_type": "markdown",
   "metadata": {},
   "source": [
    "Now let's take a look at where the settlers come from."
   ]
  },
  {
   "cell_type": "code",
   "execution_count": 156,
   "metadata": {},
   "outputs": [
    {
     "name": "stdout",
     "output_type": "stream",
     "text": [
      "northeast 324\n",
      "southwest 325\n",
      "northwest 325\n",
      "southeast 364\n"
     ]
    }
   ],
   "source": [
    "for region in set(regions):\n",
    "    print(region, regions.count(region))"
   ]
  },
  {
   "cell_type": "markdown",
   "metadata": {},
   "source": [
    "Almost equal here too! Maybe we'll manage to find something interesting if we dig deeper... "
   ]
  },
  {
   "cell_type": "code",
   "execution_count": 157,
   "metadata": {},
   "outputs": [
    {
     "name": "stdout",
     "output_type": "stream",
     "text": [
      "Total smokers: 274 ( 20.48 %). \n",
      "Smoker count per origin: \n",
      "Northeast: 67 \n",
      "Southwest: 58 \n",
      "Northwest: 58 \n",
      "Southeast: 91\n"
     ]
    }
   ],
   "source": [
    "region_smoker = list(zip(regions, smoker_statuses))\n",
    "smokers = []\n",
    "for i in region_smoker:\n",
    "    if i[1] == \"yes\":\n",
    "        smokers.append(i[0])\n",
    "    else: continue\n",
    "    \n",
    "total_smokers = len(smokers)    \n",
    "smokers_ne = smokers.count(\"northeast\")\n",
    "smokers_sw = smokers.count(\"southwest\")\n",
    "smokers_nw = smokers.count(\"northwest\")\n",
    "smokers_se = smokers.count(\"southeast\")\n",
    "    \n",
    "print(\"Total smokers:\", total_smokers, \"(\",round(total_smokers / len(region_smoker) * 100, 2), \"%).\",\n",
    "    \"\\nSmoker count per origin:\",\n",
    "    \"\\nNortheast:\", smokers_ne,\n",
    "     \"\\nSouthwest:\", smokers_sw,\n",
    "     \"\\nNorthwest:\", smokers_nw,\n",
    "     \"\\nSoutheast:\", smokers_se)\n"
   ]
  },
  {
   "cell_type": "markdown",
   "metadata": {},
   "source": [
    "The most lunar smokers come from Southeast, well, it's the most smoking US region on Earth too... But 20.5% smokers is almost twice as much as on Earth! Maybe the administration should launch a campaign to help people quit... \n",
    "\n",
    "While it's lunar doc's job to consult people on how to quit smoking, we could help the authorities with informational campaign. While life expectancy, QUALY or Lee-Carter model is something difficult for nerds, there is something everyone understands: money! "
   ]
  },
  {
   "cell_type": "code",
   "execution_count": 158,
   "metadata": {},
   "outputs": [
    {
     "name": "stdout",
     "output_type": "stream",
     "text": [
      "A smoker pays an average of 32050.23 dollars for their insurance, while a non-smoker pays only 8434.27 dollars.\n",
      "Quitting smoking can save you 23615.96 dollars!\n"
     ]
    }
   ],
   "source": [
    "smoker_status_charges = list(zip(smoker_statuses, insurance_charges))\n",
    "smoker_charges = []\n",
    "non_smoker_charges = []\n",
    "for i in smoker_status_charges:\n",
    "    if i[0] == 'yes':\n",
    "        smoker_charges.append(i[1])\n",
    "    else:\n",
    "        non_smoker_charges.append(i[1])\n",
    "avg_smoker_charges = sum(smoker_charges) / len(smoker_charges)\n",
    "avg_non_smoker_charges = sum(non_smoker_charges) / len(non_smoker_charges)\n",
    "\n",
    "print(\"A smoker pays an average of\", round(avg_smoker_charges,2), \"dollars for their insurance, while a non-smoker pays only\", round(avg_non_smoker_charges, 2), \"dollars.\"\n",
    "     \"\\nQuitting smoking can save you\", round(avg_smoker_charges - avg_non_smoker_charges, 2), \"dollars!\")\n",
    "        "
   ]
  },
  {
   "cell_type": "markdown",
   "metadata": {},
   "source": [
    "Body weight is a sensitive topic to discuss, but it has been scientifically proven to be an important factor in the risk of developing serious conditions and disease. Let's help the lunar doc investigate the settlers' BMIs and come up with arguments in favor of normalizing their weight."
   ]
  },
  {
   "cell_type": "code",
   "execution_count": 159,
   "metadata": {},
   "outputs": [
    {
     "name": "stdout",
     "output_type": "stream",
     "text": [
      "BMI distribution: \n",
      "Underweight: 20 ppl.\n",
      "Normal: 225 ppl.\n",
      "Overweight: 386 ppl.\n",
      "Obese: 391 ppl.\n",
      "Extremely obese: 316 ppl.\n"
     ]
    }
   ],
   "source": [
    "bmi_charges = list(zip(bmis, insurance_charges))\n",
    "bmi_groups = { \"underweight\" : 18.5,\n",
    "                \"normal\" : 25,\n",
    "                \"overweight\" : 30,\n",
    "                \"obese\" : 35,\n",
    "                \"extremely obese\" : []}\n",
    "underweight = []\n",
    "normal = []\n",
    "overweight = []\n",
    "obese = []\n",
    "extremely_obese = []\n",
    "\n",
    "for bmi in bmi_charges: \n",
    "    if bmi[0] < bmi_groups[\"underweight\"]:\n",
    "        underweight.append(bmi[1])\n",
    "    elif bmi[0] < bmi_groups[\"normal\"]:\n",
    "        normal.append(bmi[1])\n",
    "    elif bmi[0] < bmi_groups[\"overweight\"]:\n",
    "        overweight.append(bmi[1])\n",
    "    elif bmi[0] < bmi_groups[\"obese\"]:\n",
    "        obese.append(bmi[1])\n",
    "    else:\n",
    "        extremely_obese.append(bmi[1])\n",
    "        \n",
    "print(\"BMI distribution:\",\n",
    "     \"\\nUnderweight:\", len(underweight), \"ppl.\"\n",
    "     \"\\nNormal:\", len(normal), \"ppl.\"\n",
    "     \"\\nOverweight:\", len(overweight), \"ppl.\"\n",
    "     \"\\nObese:\", len(obese), \"ppl.\"\n",
    "     \"\\nExtremely obese:\", len(extremely_obese), \"ppl.\")"
   ]
  },
  {
   "cell_type": "markdown",
   "metadata": {},
   "source": [
    "Wow, it looks like limited physical activity in the colony has consequences! We'll send the data to lunar doc, and inform administration that public policies and activities must be adopted reduce settlers' body weight.\n",
    "Let's play with data a bit to see, what would we present to the Comittee.\n"
   ]
  },
  {
   "cell_type": "code",
   "execution_count": 160,
   "metadata": {},
   "outputs": [
    {
     "name": "stdout",
     "output_type": "stream",
     "text": [
      "81.69% of the settlement have increased body weight.\n"
     ]
    }
   ],
   "source": [
    "overweight_percent = (len(overweight) + len(obese) + len(extremely_obese)) / len(bmi_charges) * 100\n",
    "print(str(round(overweight_percent, 2)) + \"% of the settlement have increased body weight.\")"
   ]
  },
  {
   "cell_type": "code",
   "execution_count": 161,
   "metadata": {},
   "outputs": [
    {
     "name": "stdout",
     "output_type": "stream",
     "text": [
      "Average insurance expences for settlers from Normal BMI group are 10409.34$.\n",
      "Average insurance expences for settlers from Overweight BMI group are 10987.51$.\n",
      "Average insurance expences for settlers from Obese BMI group are 14419.67$.\n",
      "Average insurance expences for settlers from Extremely Obese BMI group are 16953.82$.\n"
     ]
    }
   ],
   "source": [
    "def bmi_costs(group):\n",
    "    average_costs_bmi = round(sum(group) / len(group), 2)\n",
    "    return average_costs_bmi \n",
    "    \n",
    "print(\"Average insurance expences for settlers from Normal BMI group are \" + str(bmi_costs(normal)) + \"$.\")\n",
    "print(\"Average insurance expences for settlers from Overweight BMI group are \" + str(bmi_costs(overweight)) + \"$.\")\n",
    "print(\"Average insurance expences for settlers from Obese BMI group are \" + str(bmi_costs(obese)) + \"$.\")\n",
    "print(\"Average insurance expences for settlers from Extremely Obese BMI group are \" + str(bmi_costs(extremely_obese)) + \"$.\")\n",
    "\n"
   ]
  },
  {
   "cell_type": "markdown",
   "metadata": {},
   "source": [
    "The authorities speak best money language as well, so we'll go an extra mile to find even more convincing arguments for the program."
   ]
  },
  {
   "cell_type": "code",
   "execution_count": 162,
   "metadata": {},
   "outputs": [
    {
     "name": "stdout",
     "output_type": "stream",
     "text": [
      "Normalizing body weight in Overweight group would save up to 223173.62$.\n",
      "Normalizing body weight in Obese group would save up to 1568039.03$.\n",
      "Normalizing body weight in Extremely Obese group would save up to 2068055.68$.\n",
      "Idea for leaflet: person with normal BMI pays average of $10409.34, while person with high BMI pays average of $16953.82.\n",
      "You can save up to $6544.48 by joining the weight control program!\n"
     ]
    }
   ],
   "source": [
    "def bmi_savings(group):\n",
    "    \n",
    "    savings = bmi_costs(group) - bmi_costs(normal)\n",
    "    total_savings = savings * len(group)\n",
    "    return round(total_savings, 2)\n",
    "\n",
    "print(\"Normalizing body weight in Overweight group would save up to \" + str(bmi_savings(overweight)) + \"$.\")\n",
    "print(\"Normalizing body weight in Obese group would save up to \" + str(bmi_savings(obese)) + \"$.\")\n",
    "print(\"Normalizing body weight in Extremely Obese group would save up to \" + str(bmi_savings(extremely_obese)) + \"$.\")\n",
    "\n",
    "print(\"Idea for leaflet: person with normal BMI pays average of $\" + str(bmi_costs(normal)) + \", while person with high BMI pays average of $\" + str(bmi_costs(extremely_obese)) + \".\" \n",
    "                                                                         \"\\nYou can save up to $\" + str(bmi_costs(extremely_obese) - bmi_costs(normal)) + \" by joining the weight control program!\")"
   ]
  },
  {
   "cell_type": "markdown",
   "metadata": {},
   "source": [
    "Finally, let's add all patient data to a nice and convenient dictionary to make it easier to access in the future."
   ]
  },
  {
   "cell_type": "code",
   "execution_count": 163,
   "metadata": {},
   "outputs": [],
   "source": [
    "patients_dictionary = dict()\n",
    "patients_dictionary[\"age\"] = ages\n",
    "patients_dictionary[\"sex\"] = sexes\n",
    "patients_dictionary[\"bmi\"] = bmis\n",
    "patients_dictionary[\"children\"] = num_children\n",
    "patients_dictionary[\"smoker\"] = smoker_statuses\n",
    "patients_dictionary[\"regions\"] = regions\n",
    "patients_dictionary[\"charges\"] = insurance_charges"
   ]
  },
  {
   "cell_type": "code",
   "execution_count": null,
   "metadata": {},
   "outputs": [],
   "source": []
  },
  {
   "cell_type": "code",
   "execution_count": null,
   "metadata": {},
   "outputs": [],
   "source": []
  }
 ],
 "metadata": {
  "kernelspec": {
   "display_name": "Python 3 (ipykernel)",
   "language": "python",
   "name": "python3"
  },
  "language_info": {
   "codemirror_mode": {
    "name": "ipython",
    "version": 3
   },
   "file_extension": ".py",
   "mimetype": "text/x-python",
   "name": "python",
   "nbconvert_exporter": "python",
   "pygments_lexer": "ipython3",
   "version": "3.9.13"
  }
 },
 "nbformat": 4,
 "nbformat_minor": 4
}
